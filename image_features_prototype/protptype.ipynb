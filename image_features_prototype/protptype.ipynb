{
 "cells": [
  {
   "cell_type": "code",
   "execution_count": 202,
   "metadata": {},
   "outputs": [],
   "source": [
    "import cv2 as cv\n",
    "import numpy as np\n",
    "import os"
   ]
  },
  {
   "cell_type": "markdown",
   "id": "802d2f19",
   "metadata": {},
   "source": [
    "Find left ROI"
   ]
  },
  {
   "cell_type": "code",
   "execution_count": 203,
   "id": "1bd5a9b1",
   "metadata": {},
   "outputs": [],
   "source": [
    "image = cv.imread(\"image.png\")\n",
    "\n",
    "if image is None:\n",
    "    print(\"err no image\")\n",
    "    exit()"
   ]
  },
  {
   "cell_type": "markdown",
   "id": "5bbeefff",
   "metadata": {},
   "source": [
    "Define ROI"
   ]
  },
  {
   "cell_type": "code",
   "execution_count": 204,
   "id": "34f22d72",
   "metadata": {},
   "outputs": [],
   "source": [
    "x1, y1 = 0, 45\n",
    "x2, y2 = 23, image.shape[0]  # img.shape[0] = number of rows (img.shape[1] = number of cols)\n",
    "roi = image[y1:y2, x1:x2]"
   ]
  },
  {
   "cell_type": "code",
   "execution_count": 205,
   "id": "48b581fc",
   "metadata": {},
   "outputs": [
    {
     "data": {
      "text/plain": [
       "True"
      ]
     },
     "execution_count": 205,
     "metadata": {},
     "output_type": "execute_result"
    }
   ],
   "source": [
    "annotated = image.copy()\n",
    "cv.rectangle(annotated, (x1, y1), (x2, y2), (0, 0, 255), 2)\n",
    "cv.imwrite(\"ann.png\", annotated)"
   ]
  },
  {
   "cell_type": "markdown",
   "id": "02ecc483",
   "metadata": {},
   "source": [
    "Find black pixels on roi"
   ]
  },
  {
   "cell_type": "code",
   "execution_count": 206,
   "id": "91ef4b40",
   "metadata": {},
   "outputs": [],
   "source": [
    "# Parametri\n",
    "prag_negru = 10\n",
    "\n",
    "# depending on resolution\n",
    "numar_minim_pixeli_negri = 2\n",
    "\n",
    "delta_y = 10  # cât să sară în jos la fiecare pas !!\n",
    "\n",
    "roi_total = roi\n",
    "\n",
    "# Offset inițial relativ în ROI\n",
    "current_y = 0\n",
    "ys = []\n",
    "\n",
    "while current_y < roi_total.shape[0]:\n",
    "    roi_partial = roi_total[current_y:, :]  \n",
    "\n",
    "    y_offset = None\n",
    "    for y in range(roi_partial.shape[0]):\n",
    "        linie = roi_partial[y, :]\n",
    "        numar_negru = np.sum(linie < prag_negru)\n",
    "        if numar_negru >= numar_minim_pixeli_negri:\n",
    "            y_offset = y\n",
    "            break\n",
    "\n",
    "    if y_offset is None:\n",
    "        break  # nu s-a mai găsit nimic, ieșim\n",
    "\n",
    "    real_y = y1 + current_y + y_offset\n",
    "    ys.append(real_y)\n",
    "    cv.line(annotated, (x1, real_y), (x2, real_y), (0, 255, 0), 2)\n",
    "\n",
    "    # Actualizăm punctul de plecare pentru următoarea căutare\n",
    "    current_y += y_offset + delta_y\n",
    "    cv.line(annotated, (x1, real_y), (x2, real_y), (0, 255, 0), 2)"
   ]
  },
  {
   "cell_type": "code",
   "execution_count": 207,
   "id": "23b4f150",
   "metadata": {},
   "outputs": [],
   "source": [
    "cv.imwrite(\"ann.png\", annotated)\n",
    "os.makedirs(\"parts\", exist_ok=True)\n",
    "\n",
    "# play with them, find yourself :)\n",
    "padding_up = 6\n",
    "padding_down = 2\n",
    "\n",
    "# Crop și salvare între perechi succesive de y\n",
    "for i in range(len(ys) - 1):\n",
    "    y_start = ys[i] - padding_up\n",
    "    y_end = ys[i + 1] - padding_down\n",
    "    if y_end > y_start:\n",
    "        bucata = image[y_start:y_end, 0:image.shape[1]]\n",
    "        cv.imwrite(f\"parts/part_{i:02d}.png\", bucata)"
   ]
  }
 ],
 "metadata": {
  "kernelspec": {
   "display_name": ".venv",
   "language": "python",
   "name": "python3"
  },
  "language_info": {
   "codemirror_mode": {
    "name": "ipython",
    "version": 3
   },
   "file_extension": ".py",
   "mimetype": "text/x-python",
   "name": "python",
   "nbconvert_exporter": "python",
   "pygments_lexer": "ipython3",
   "version": "3.10.12"
  }
 },
 "nbformat": 4,
 "nbformat_minor": 5
}
